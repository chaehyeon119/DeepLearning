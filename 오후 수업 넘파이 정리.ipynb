{
 "cells": [
  {
   "cell_type": "code",
   "execution_count": 1,
   "metadata": {},
   "outputs": [],
   "source": [
    "#평균값 mean"
   ]
  },
  {
   "cell_type": "code",
   "execution_count": 2,
   "metadata": {},
   "outputs": [],
   "source": [
    "import numpy as np"
   ]
  },
  {
   "cell_type": "code",
   "execution_count": 3,
   "metadata": {},
   "outputs": [],
   "source": [
    "array1=np.array([14,6,13,21,23,31,9,5])"
   ]
  },
  {
   "cell_type": "code",
   "execution_count": 4,
   "metadata": {},
   "outputs": [
    {
     "name": "stdout",
     "output_type": "stream",
     "text": [
      "15.25\n"
     ]
    }
   ],
   "source": [
    "print(array1.mean())"
   ]
  },
  {
   "cell_type": "code",
   "execution_count": 5,
   "metadata": {},
   "outputs": [],
   "source": [
    "#중앙값 median(중앙에 있는 값)"
   ]
  },
  {
   "cell_type": "code",
   "execution_count": 14,
   "metadata": {},
   "outputs": [],
   "source": [
    "import numpy as np\n",
    "array1=np.array([8,12,9,15,16])\n",
    "array2=np.array([14,6,13,21,23,31,9,5])"
   ]
  },
  {
   "cell_type": "code",
   "execution_count": 16,
   "metadata": {},
   "outputs": [
    {
     "name": "stdout",
     "output_type": "stream",
     "text": [
      "12.0\n",
      "13.5\n"
     ]
    }
   ],
   "source": [
    "print(np.median(array1))\n",
    "print(np.median(array2))"
   ]
  },
  {
   "cell_type": "code",
   "execution_count": 19,
   "metadata": {},
   "outputs": [
    {
     "name": "stdout",
     "output_type": "stream",
     "text": [
      "[[0 1 2]\n",
      " [3 4 5]]\n"
     ]
    }
   ],
   "source": [
    "#2중 리스트\n",
    "import numpy as np\n",
    "b=np.array([[0,1,2],[3,4,5]])\n",
    "print(b)"
   ]
  },
  {
   "cell_type": "code",
   "execution_count": 20,
   "metadata": {},
   "outputs": [
    {
     "name": "stdout",
     "output_type": "stream",
     "text": [
      "[[[0 1 2]\n",
      "  [3 4 5]]\n",
      "\n",
      " [[5 4 3]\n",
      "  [2 1 3]]]\n"
     ]
    }
   ],
   "source": [
    "#3중 배열 리스트\n",
    "import numpy as np\n",
    "c=np.array([[[0,1,2],[3,4,5]],[[5,4,3],[2,1,3]]])\n",
    "print(c)"
   ]
  },
  {
   "cell_type": "code",
   "execution_count": 24,
   "metadata": {},
   "outputs": [
    {
     "name": "stdout",
     "output_type": "stream",
     "text": [
      "[0. 0. 0. 0. 0. 0. 0. 0.]\n",
      "[1. 1. 1. 1. 1. 1. 1. 1.]\n",
      "[0 1 2 3 4 5 6 7]\n"
     ]
    }
   ],
   "source": [
    "import numpy as no\n",
    "d=np.zeros(8) #0이 8개 저장된 배열\n",
    "#숫자 단어만 수정하면 원하는 숫자로 가능함\n",
    "print(d)\n",
    "e=np.ones(8) #1이 8개 저장된 배열\n",
    "print(e)\n",
    "f=np.arange(8) #0부터 7까지가 저장된 배열\n",
    "print(f)"
   ]
  },
  {
   "cell_type": "code",
   "execution_count": 25,
   "metadata": {},
   "outputs": [
    {
     "name": "stdout",
     "output_type": "stream",
     "text": [
      "(2, 3)\n"
     ]
    }
   ],
   "source": [
    "#shape()함수에 의해 배열의 형태를 얻는다\n",
    "import numpy as np\n",
    "a=np.array([[0,1,2],\n",
    "              [3,4,5]]) #2x3의 2차원배열\n",
    "print(np.shape(a))"
   ]
  },
  {
   "cell_type": "code",
   "execution_count": 26,
   "metadata": {},
   "outputs": [
    {
     "name": "stdout",
     "output_type": "stream",
     "text": [
      "2\n"
     ]
    }
   ],
   "source": [
    "print(len(a)) #a의 행 수를 얻는다"
   ]
  },
  {
   "cell_type": "markdown",
   "metadata": {},
   "source": [
    "배열과 수치의 연산"
   ]
  },
  {
   "cell_type": "code",
   "execution_count": 28,
   "metadata": {},
   "outputs": [
    {
     "name": "stdout",
     "output_type": "stream",
     "text": [
      "[[0 1 2]\n",
      " [3 4 5]]\n",
      "\n",
      "[[3 4 5]\n",
      " [6 7 8]]\n",
      "\n",
      "[[ 0  3  6]\n",
      " [ 9 12 15]]\n"
     ]
    }
   ],
   "source": [
    "import numpy as np\n",
    "a=np.array([[0,1,2],\n",
    "              [3,4,5]])\n",
    "print(a)\n",
    "print()\n",
    "print(a+3)\n",
    "print()\n",
    "print(a*3)"
   ]
  },
  {
   "cell_type": "code",
   "execution_count": 29,
   "metadata": {},
   "outputs": [
    {
     "name": "stdout",
     "output_type": "stream",
     "text": [
      "[[0 1 2]\n",
      " [3 4 5]]\n",
      "\n",
      "[[2 0 1]\n",
      " [5 3 4]]\n",
      "\n",
      "[[2 1 3]\n",
      " [8 7 9]]\n",
      "\n",
      "[[ 0  0  2]\n",
      " [15 12 20]]\n"
     ]
    }
   ],
   "source": [
    "#배열끼리의 연산\n",
    "b=np.array([[0,1,2],\n",
    "               [3,4,5]]) #2차원 배열\n",
    "c=np.array([[2,0,1],\n",
    "               [5,3,4]])\n",
    "print(b)\n",
    "print()\n",
    "print(c)\n",
    "print()\n",
    "print(b+c)\n",
    "print()\n",
    "print(b*c) #위의 행은 위의 행끼리, 아래행은 아래행끼리만 곱해짐\n",
    "#b와 c 행렬 곱셈을 성립할 수 없음"
   ]
  },
  {
   "cell_type": "code",
   "execution_count": 31,
   "metadata": {},
   "outputs": [
    {
     "name": "stdout",
     "output_type": "stream",
     "text": [
      "4\n"
     ]
    }
   ],
   "source": [
    "import numpy as np\n",
    "a=np.array([1,2,3,4,5])\n",
    "print(a[3])#인덱스를 지정"
   ]
  },
  {
   "cell_type": "code",
   "execution_count": 32,
   "metadata": {},
   "outputs": [
    {
     "name": "stdout",
     "output_type": "stream",
     "text": [
      "[1 2 9 4 5]\n"
     ]
    }
   ],
   "source": [
    "#배열 수정하기\n",
    "a[2]=9\n",
    "print(a)"
   ]
  },
  {
   "cell_type": "code",
   "execution_count": 33,
   "metadata": {},
   "outputs": [
    {
     "name": "stdout",
     "output_type": "stream",
     "text": [
      "5\n"
     ]
    }
   ],
   "source": [
    "#[1,2]행 찾기\n",
    "b=np.array([[0,1,2],\n",
    "            [3,4,5]])\n",
    "print(b[1,2])#b[1][2]와 같다"
   ]
  },
  {
   "cell_type": "code",
   "execution_count": 34,
   "metadata": {},
   "outputs": [
    {
     "name": "stdout",
     "output_type": "stream",
     "text": [
      "[[0 1 2]\n",
      " [3 4 9]]\n"
     ]
    }
   ],
   "source": [
    "b[1,2]=9#b [1행 2열]을 9로 바꾸고 싶을 때\n",
    "print(b)"
   ]
  },
  {
   "cell_type": "code",
   "execution_count": 35,
   "metadata": {},
   "outputs": [
    {
     "name": "stdout",
     "output_type": "stream",
     "text": [
      "[3 4 5]\n",
      "\n",
      "[[0 6 2]\n",
      " [3 7 5]]\n"
     ]
    }
   ],
   "source": [
    "c=np.array([[0,1,2],\n",
    "               [3,4,5]])\n",
    "print(c[1, :]) #인덱스가 1인 행을 취득\n",
    "print()\n",
    "c[:,1]=np.array([6,7])#인덱스가 1인 열을 교체\n",
    "print(c)"
   ]
  },
  {
   "cell_type": "code",
   "execution_count": 37,
   "metadata": {},
   "outputs": [
    {
     "name": "stdout",
     "output_type": "stream",
     "text": [
      "합계: 15\n",
      "평균: 2.5\n",
      "최댓값: 5\n",
      "최솟값: 0\n"
     ]
    }
   ],
   "source": [
    "#각 원소들 사이의 계산\n",
    "import numpy as np\n",
    "a=np.array([[0,1,2],\n",
    "               [3,4,5]])#2차원 배열\n",
    "print('합계:', np.sum(a))\n",
    "print('평균:', np.average(a))\n",
    "print('최댓값:', np.max(a))\n",
    "print('최솟값:', np.min(a))"
   ]
  },
  {
   "cell_type": "code",
   "execution_count": 40,
   "metadata": {},
   "outputs": [
    {
     "name": "stdout",
     "output_type": "stream",
     "text": [
      "[[0 4 6]\n",
      " [6 4 0]]\n",
      "\n",
      "[[5 5 5]\n",
      " [5 5 5]]\n",
      "\n",
      "[[-5 -3 -1]\n",
      " [ 1  3  5]]\n"
     ]
    }
   ],
   "source": [
    "#문제\n",
    "'''\n",
    "a,b의 곱셈과 더하기를 구해보아라.\n",
    "'''\n",
    "\n",
    "import numpy as np\n",
    "a=np.array([[0,1,2],\n",
    "               [3,4,5]])\n",
    "b=np.array([[5,4,3],\n",
    "               [2,1,0]])\n",
    "print(a*b)\n",
    "print()\n",
    "print(a+b)\n",
    "print()\n",
    "print(a-b)"
   ]
  },
  {
   "cell_type": "code",
   "execution_count": 47,
   "metadata": {},
   "outputs": [
    {
     "name": "stdout",
     "output_type": "stream",
     "text": [
      "[[ 6  3]\n",
      " [12  6]]\n",
      "\n",
      "[[ 2  4  2]\n",
      " [ 8 16  8]\n",
      " [14 28 14]]\n"
     ]
    }
   ],
   "source": [
    "#행렬 곱하기 *dot을 썼을 떄 행렬 곱셈이 가능한지 꼭 알아보기\n",
    "#a랑 d 곱하기 => dot(a,d)\n",
    "import numpy as np\n",
    "a=np.array([[0,1,2],\n",
    "            [1,2,3]])\n",
    "b=np.array([[2,1],\n",
    "            [2,1],\n",
    "            [2,1]])\n",
    "print(np.dot(a,b))\n",
    "\n",
    "c=np.array([[0,1,2],\n",
    "             [3,4,5],\n",
    "             [6,7,8]])\n",
    "d=np.array([[0,2,0],\n",
    "           [2,0,2],\n",
    "           [0,2,0]])\n",
    "print()\n",
    "#행렬별 곱\n",
    "print(np.dot(c,d))"
   ]
  },
  {
   "cell_type": "code",
   "execution_count": null,
   "metadata": {},
   "outputs": [],
   "source": []
  }
 ],
 "metadata": {
  "kernelspec": {
   "display_name": "Python 3",
   "language": "python",
   "name": "python3"
  },
  "language_info": {
   "codemirror_mode": {
    "name": "ipython",
    "version": 3
   },
   "file_extension": ".py",
   "mimetype": "text/x-python",
   "name": "python",
   "nbconvert_exporter": "python",
   "pygments_lexer": "ipython3",
   "version": "3.6.5"
  }
 },
 "nbformat": 4,
 "nbformat_minor": 2
}
