{
 "cells": [
  {
   "cell_type": "code",
   "execution_count": 4,
   "metadata": {},
   "outputs": [
    {
     "name": "stdout",
     "output_type": "stream",
     "text": [
      "[3024000. 3427200. 3225600. 3628800. 4435200. 1411200. 1814400. 3427200.\n",
      " 3326400. 2923200. 2822400. 3830400. 1713600. 1411200. 2318400. 3931200.\n",
      " 4032000. 3528000. 3830400. 1512000. 1108800. 2419200. 3830400. 3830400.\n",
      " 3427200. 4233600. 1512000. 1310400. 3628800. 3225600. 2520000.]\n"
     ]
    }
   ],
   "source": [
    "#numpy를 활용하여 1엔에 10.08원이라고 가정하고,\n",
    "#원화 매출이 담긴 numpy array를 만들어 출력해 주세요.\n",
    "\n",
    "import numpy as np\n",
    "\n",
    "revenue_in_yen = [\n",
    "    300000, 340000, 320000, 360000, \n",
    "    440000, 140000, 180000, 340000, \n",
    "    330000, 290000, 280000, 380000, \n",
    "    170000, 140000, 230000, 390000, \n",
    "    400000, 350000, 380000, 150000, \n",
    "    110000, 240000, 380000, 380000, \n",
    "    340000, 420000, 150000, 130000, \n",
    "    360000, 320000, 250000\n",
    "]\n",
    "\n",
    "yen=np.array(revenue_in_yen)\n",
    "won=yen*10.08\n",
    "print(won)\n"
   ]
  },
  {
   "cell_type": "code",
   "execution_count": 5,
   "metadata": {},
   "outputs": [
    {
     "name": "stdout",
     "output_type": "stream",
     "text": [
      "[3024000원 3427200원 3225600원 3628800원 4435200원 1411200원 1814400원 3427200원\n",
      " 3326400원 2923200원 2822400원 3830400원 1713600원 1411200원 2318400원 3931200원\n",
      " 4032000원 3528000원 3830400원 1512000원 1108800원 2419200원 3830400원 3830400원\n",
      " 3427200원 4233600원 1512000원 1310400원 3628800원 3225600원 2520000원]\n"
     ]
    }
   ],
   "source": [
    "result=str(won).replace('.','원')\n",
    "print(result)"
   ]
  },
  {
   "cell_type": "code",
   "execution_count": null,
   "metadata": {},
   "outputs": [],
   "source": []
  }
 ],
 "metadata": {
  "kernelspec": {
   "display_name": "Python 3",
   "language": "python",
   "name": "python3"
  },
  "language_info": {
   "codemirror_mode": {
    "name": "ipython",
    "version": 3
   },
   "file_extension": ".py",
   "mimetype": "text/x-python",
   "name": "python",
   "nbconvert_exporter": "python",
   "pygments_lexer": "ipython3",
   "version": "3.6.5"
  }
 },
 "nbformat": 4,
 "nbformat_minor": 4
}
